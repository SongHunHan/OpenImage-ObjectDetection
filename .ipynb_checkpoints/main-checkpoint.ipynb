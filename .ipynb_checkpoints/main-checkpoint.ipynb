{
 "cells": [
  {
   "cell_type": "code",
   "execution_count": 1,
   "metadata": {},
   "outputs": [],
   "source": [
    "#open Image set v4 이용해서 거기에 있는거 학습해보는중"
   ]
  },
  {
   "cell_type": "code",
   "execution_count": 1,
   "metadata": {},
   "outputs": [
    {
     "name": "stdout",
     "output_type": "stream",
     "text": [
      "Cloning into 'OIDv4_ToolKit'...\n",
      "remote: Enumerating objects: 422, done.\u001b[K\n",
      "remote: Total 422 (delta 0), reused 0 (delta 0), pack-reused 422\u001b[K\n",
      "Receiving objects: 100% (422/422), 34.08 MiB | 10.42 MiB/s, done.\n",
      "Resolving deltas: 100% (146/146), done.\n"
     ]
    }
   ],
   "source": [
    "!git clone https://github.com/EscVM/OIDv4_ToolKit.git"
   ]
  },
  {
   "cell_type": "code",
   "execution_count": 3,
   "metadata": {},
   "outputs": [
    {
     "data": {
      "text/plain": [
       "'/tf/Docker/yolov5_openImagev5/OIDv4_ToolKit'"
      ]
     },
     "execution_count": 3,
     "metadata": {},
     "output_type": "execute_result"
    }
   ],
   "source": [
    "pwd"
   ]
  },
  {
   "cell_type": "code",
   "execution_count": 4,
   "metadata": {
    "scrolled": true,
    "tags": []
   },
   "outputs": [
    {
     "name": "stdout",
     "output_type": "stream",
     "text": [
      "Collecting pandas\n",
      "  Downloading pandas-1.1.5-cp36-cp36m-manylinux1_x86_64.whl (9.5 MB)\n",
      "\u001b[K     |████████████████████████████████| 9.5 MB 2.6 MB/s eta 0:00:01\n",
      "\u001b[?25hRequirement already satisfied: numpy in /usr/local/lib/python3.6/dist-packages (from -r requirements.txt (line 2)) (1.18.2)\n",
      "Collecting awscli\n",
      "  Downloading awscli-1.20.6-py3-none-any.whl (3.7 MB)\n",
      "\u001b[K     |████████████████████████████████| 3.7 MB 11.3 MB/s eta 0:00:01\n",
      "\u001b[?25hRequirement already satisfied: urllib3 in /usr/local/lib/python3.6/dist-packages (from -r requirements.txt (line 5)) (1.25.8)\n",
      "Collecting tqdm\n",
      "  Downloading tqdm-4.61.2-py2.py3-none-any.whl (76 kB)\n",
      "\u001b[K     |████████████████████████████████| 76 kB 3.6 MB/s  eta 0:00:01\n",
      "\u001b[?25hCollecting opencv-python\n",
      "  Downloading opencv_python-4.5.3.56-cp36-cp36m-manylinux2014_x86_64.whl (49.9 MB)\n",
      "\u001b[K     |████████████████████████████████| 49.9 MB 1.7 MB/s eta 0:00:011\n",
      "\u001b[?25hRequirement already satisfied: pytz>=2017.2 in /usr/local/lib/python3.6/dist-packages (from pandas->-r requirements.txt (line 1)) (2021.1)\n",
      "Requirement already satisfied: python-dateutil>=2.7.3 in /usr/local/lib/python3.6/dist-packages (from pandas->-r requirements.txt (line 1)) (2.8.1)\n",
      "Requirement already satisfied: six>=1.5 in /usr/local/lib/python3.6/dist-packages (from python-dateutil>=2.7.3->pandas->-r requirements.txt (line 1)) (1.14.0)\n",
      "Collecting colorama<0.4.4,>=0.2.5\n",
      "  Downloading colorama-0.4.3-py2.py3-none-any.whl (15 kB)\n",
      "Collecting botocore==1.21.6\n",
      "  Downloading botocore-1.21.6-py3-none-any.whl (7.7 MB)\n",
      "\u001b[K     |████████████████████████████████| 7.7 MB 11.3 MB/s eta 0:00:01\n",
      "\u001b[?25hRequirement already satisfied: PyYAML<5.5,>=3.10 in /usr/local/lib/python3.6/dist-packages (from awscli->-r requirements.txt (line 3)) (5.4.1)\n",
      "Collecting s3transfer<0.6.0,>=0.5.0\n",
      "  Downloading s3transfer-0.5.0-py3-none-any.whl (79 kB)\n",
      "\u001b[K     |████████████████████████████████| 79 kB 5.2 MB/s  eta 0:00:01\n",
      "\u001b[?25hRequirement already satisfied: rsa<4.8,>=3.1.2 in /usr/local/lib/python3.6/dist-packages (from awscli->-r requirements.txt (line 3)) (4.0)\n",
      "Collecting docutils<0.16,>=0.10\n",
      "  Downloading docutils-0.15.2-py3-none-any.whl (547 kB)\n",
      "\u001b[K     |████████████████████████████████| 547 kB 10.9 MB/s eta 0:00:01\n",
      "\u001b[?25hCollecting jmespath<1.0.0,>=0.7.1\n",
      "  Downloading jmespath-0.10.0-py2.py3-none-any.whl (24 kB)\n",
      "Requirement already satisfied: pyasn1>=0.1.3 in /usr/local/lib/python3.6/dist-packages (from rsa<4.8,>=3.1.2->awscli->-r requirements.txt (line 3)) (0.4.8)\n",
      "Installing collected packages: jmespath, botocore, s3transfer, docutils, colorama, tqdm, pandas, opencv-python, awscli\n",
      "Successfully installed awscli-1.20.6 botocore-1.21.6 colorama-0.4.3 docutils-0.15.2 jmespath-0.10.0 opencv-python-4.5.3.56 pandas-1.1.5 s3transfer-0.5.0 tqdm-4.61.2\n",
      "\u001b[33mWARNING: Running pip as the 'root' user can result in broken permissions and conflicting behaviour with the system package manager. It is recommended to use a virtual environment instead: https://pip.pypa.io/warnings/venv\u001b[0m\n",
      "Note: you may need to restart the kernel to use updated packages.\n"
     ]
    }
   ],
   "source": [
    "pip install -r requirements.txt"
   ]
  },
  {
   "cell_type": "code",
   "execution_count": null,
   "metadata": {},
   "outputs": [
    {
     "name": "stdout",
     "output_type": "stream",
     "text": [
      "\u001b[92m\n",
      "\t\t   ___   _____  ______            _    _    \n",
      "\t\t .'   `.|_   _||_   _ `.         | |  | |   \n",
      "\t\t/  .-.  \\ | |    | | `. \\ _   __ | |__| |_  \n",
      "\t\t| |   | | | |    | |  | |[ \\ [  ]|____   _| \n",
      "\t\t\\  `-'  /_| |_  _| |_.' / \\ \\/ /     _| |_  \n",
      "\t\t `.___.'|_____||______.'   \\__/     |_____|\n",
      "\t\u001b[0m\n",
      "\u001b[92m\n",
      "             _____                    _                 _             \n",
      "            (____ \\                  | |               | |            \n",
      "             _   \\ \\ ___  _ _ _ ____ | | ___   ____  _ | | ____  ____ \n",
      "            | |   | / _ \\| | | |  _ \\| |/ _ \\ / _  |/ || |/ _  )/ ___)\n",
      "            | |__/ / |_| | | | | | | | | |_| ( ( | ( (_| ( (/ /| |    \n",
      "            |_____/ \\___/ \\____|_| |_|_|\\___/ \\_||_|\\____|\\____)_|    \n",
      "                                                          \n",
      "        \u001b[0m\n",
      "    [INFO] | Downloading ['Apple', 'Orange'] together.\u001b[0m\n",
      "\u001b[91m   [ERROR] | Missing the class-descriptions-boxable.csv file.\u001b[0m\n",
      "\u001b[94m[DOWNLOAD] | Do you want to download the missing file? [Y/n] \u001b[0m"
     ]
    }
   ],
   "source": [
    "#!python main.py downloader --classes Apple Orange --type_csv train --limit 5000 --multiclasses 1\n",
    "#!python main.py downloader --classes Apple Orange --type_csv validation --limit 5000 --multiclasses 1"
   ]
  },
  {
   "cell_type": "code",
   "execution_count": 9,
   "metadata": {},
   "outputs": [
    {
     "name": "stdout",
     "output_type": "stream",
     "text": [
      "Cloning into 'yolov5'...\n",
      "remote: Enumerating objects: 8393, done.\u001b[K\n",
      "remote: Counting objects: 100% (107/107), done.\u001b[K\n",
      "remote: Compressing objects: 100% (74/74), done.\u001b[K\n",
      "remote: Total 8393 (delta 50), reused 62 (delta 33), pack-reused 8286\u001b[K\n",
      "Receiving objects: 100% (8393/8393), 9.31 MiB | 6.19 MiB/s, done.\n",
      "Resolving deltas: 100% (5790/5790), done.\n"
     ]
    }
   ],
   "source": [
    "!git clone https://github.com/ultralytics/yolov5.git"
   ]
  },
  {
   "cell_type": "code",
   "execution_count": 10,
   "metadata": {},
   "outputs": [
    {
     "name": "stdout",
     "output_type": "stream",
     "text": [
      "/tf/Docker/yolov5_openImagev5/yolov5\n"
     ]
    }
   ],
   "source": [
    "cd yolov5"
   ]
  },
  {
   "cell_type": "code",
   "execution_count": 13,
   "metadata": {
    "scrolled": true,
    "tags": []
   },
   "outputs": [
    {
     "name": "stdout",
     "output_type": "stream",
     "text": [
      "Collecting matplotlib>=3.2.2\n",
      "  Downloading matplotlib-3.3.4-cp36-cp36m-manylinux1_x86_64.whl (11.5 MB)\n",
      "\u001b[K     |████████████████████████████████| 11.5 MB 10.5 MB/s eta 0:00:01\n",
      "\u001b[?25hCollecting numpy>=1.18.5\n",
      "  Downloading numpy-1.19.5-cp36-cp36m-manylinux2010_x86_64.whl (14.8 MB)\n",
      "\u001b[K     |████████████████████████████████| 14.8 MB 10.5 MB/s eta 0:00:01\n",
      "\u001b[?25hRequirement already satisfied: opencv-python>=4.1.2 in /usr/local/lib/python3.6/dist-packages (from -r requirements.txt (line 6)) (4.5.3.56)\n",
      "Requirement already satisfied: Pillow in /usr/local/lib/python3.6/dist-packages (from -r requirements.txt (line 7)) (8.3.1)\n",
      "Requirement already satisfied: PyYAML>=5.3.1 in /usr/local/lib/python3.6/dist-packages (from -r requirements.txt (line 8)) (5.4.1)\n",
      "Requirement already satisfied: scipy>=1.4.1 in /usr/local/lib/python3.6/dist-packages (from -r requirements.txt (line 9)) (1.4.1)\n",
      "Collecting torch>=1.7.0\n",
      "  Downloading torch-1.9.0-cp36-cp36m-manylinux1_x86_64.whl (831.4 MB)\n",
      "\u001b[K     |████████████████████████████████| 831.4 MB 58 kB/s s eta 0:00:01     |██████████████████████▎         | 579.8 MB 10.1 MB/s eta 0:00:25     |██████████████████████████      | 677.5 MB 5.4 MB/s eta 0:00:29\n",
      "\u001b[?25hCollecting torchvision>=0.8.1\n",
      "  Downloading torchvision-0.10.0-cp36-cp36m-manylinux1_x86_64.whl (22.1 MB)\n",
      "\u001b[K     |████████████████████████████████| 22.1 MB 11.9 MB/s eta 0:00:01\n",
      "\u001b[?25hRequirement already satisfied: tqdm>=4.41.0 in /usr/local/lib/python3.6/dist-packages (from -r requirements.txt (line 12)) (4.61.2)\n",
      "Collecting tensorboard>=2.4.1\n",
      "  Downloading tensorboard-2.5.0-py3-none-any.whl (6.0 MB)\n",
      "\u001b[K     |████████████████████████████████| 6.0 MB 11.5 MB/s eta 0:00:01\n",
      "\u001b[?25hCollecting seaborn>=0.11.0\n",
      "  Downloading seaborn-0.11.1-py3-none-any.whl (285 kB)\n",
      "\u001b[K     |████████████████████████████████| 285 kB 11.1 MB/s eta 0:00:01\n",
      "\u001b[?25hRequirement already satisfied: pandas in /usr/local/lib/python3.6/dist-packages (from -r requirements.txt (line 20)) (1.1.5)\n",
      "Collecting thop\n",
      "  Downloading thop-0.0.31.post2005241907-py3-none-any.whl (8.7 kB)\n",
      "Requirement already satisfied: python-dateutil>=2.1 in /usr/local/lib/python3.6/dist-packages (from matplotlib>=3.2.2->-r requirements.txt (line 4)) (2.8.1)\n",
      "Requirement already satisfied: cycler>=0.10 in /usr/local/lib/python3.6/dist-packages (from matplotlib>=3.2.2->-r requirements.txt (line 4)) (0.10.0)\n",
      "Requirement already satisfied: kiwisolver>=1.0.1 in /usr/local/lib/python3.6/dist-packages (from matplotlib>=3.2.2->-r requirements.txt (line 4)) (1.1.0)\n",
      "Requirement already satisfied: pyparsing!=2.0.4,!=2.1.2,!=2.1.6,>=2.0.3 in /usr/local/lib/python3.6/dist-packages (from matplotlib>=3.2.2->-r requirements.txt (line 4)) (2.4.6)\n",
      "Requirement already satisfied: dataclasses in /usr/local/lib/python3.6/dist-packages (from torch>=1.7.0->-r requirements.txt (line 10)) (0.8)\n",
      "Requirement already satisfied: typing-extensions in /usr/local/lib/python3.6/dist-packages (from torch>=1.7.0->-r requirements.txt (line 10)) (3.10.0.0)\n",
      "Requirement already satisfied: google-auth-oauthlib<0.5,>=0.4.1 in /usr/local/lib/python3.6/dist-packages (from tensorboard>=2.4.1->-r requirements.txt (line 15)) (0.4.1)\n",
      "Requirement already satisfied: wheel>=0.26 in /usr/lib/python3/dist-packages (from tensorboard>=2.4.1->-r requirements.txt (line 15)) (0.30.0)\n",
      "Requirement already satisfied: werkzeug>=0.11.15 in /usr/local/lib/python3.6/dist-packages (from tensorboard>=2.4.1->-r requirements.txt (line 15)) (1.0.0)\n",
      "Requirement already satisfied: markdown>=2.6.8 in /usr/local/lib/python3.6/dist-packages (from tensorboard>=2.4.1->-r requirements.txt (line 15)) (3.2.1)\n",
      "Requirement already satisfied: grpcio>=1.24.3 in /usr/local/lib/python3.6/dist-packages (from tensorboard>=2.4.1->-r requirements.txt (line 15)) (1.27.2)\n",
      "Requirement already satisfied: tensorboard-plugin-wit>=1.6.0 in /usr/local/lib/python3.6/dist-packages (from tensorboard>=2.4.1->-r requirements.txt (line 15)) (1.6.0.post2)\n",
      "Requirement already satisfied: absl-py>=0.4 in /usr/local/lib/python3.6/dist-packages (from tensorboard>=2.4.1->-r requirements.txt (line 15)) (0.9.0)\n",
      "Collecting tensorboard-data-server<0.7.0,>=0.6.0\n",
      "  Downloading tensorboard_data_server-0.6.1-py3-none-manylinux2010_x86_64.whl (4.9 MB)\n",
      "\u001b[K     |████████████████████████████████| 4.9 MB 11.1 MB/s eta 0:00:01\n",
      "\u001b[?25hRequirement already satisfied: setuptools>=41.0.0 in /usr/local/lib/python3.6/dist-packages (from tensorboard>=2.4.1->-r requirements.txt (line 15)) (46.1.3)\n",
      "Requirement already satisfied: google-auth<2,>=1.6.3 in /usr/local/lib/python3.6/dist-packages (from tensorboard>=2.4.1->-r requirements.txt (line 15)) (1.12.0)\n",
      "Requirement already satisfied: protobuf>=3.6.0 in /usr/local/lib/python3.6/dist-packages (from tensorboard>=2.4.1->-r requirements.txt (line 15)) (3.11.3)\n",
      "Requirement already satisfied: requests<3,>=2.21.0 in /usr/local/lib/python3.6/dist-packages (from tensorboard>=2.4.1->-r requirements.txt (line 15)) (2.23.0)\n",
      "Requirement already satisfied: pytz>=2017.2 in /usr/local/lib/python3.6/dist-packages (from pandas->-r requirements.txt (line 20)) (2021.1)\n",
      "Requirement already satisfied: six in /usr/local/lib/python3.6/dist-packages (from absl-py>=0.4->tensorboard>=2.4.1->-r requirements.txt (line 15)) (1.14.0)\n",
      "Requirement already satisfied: rsa<4.1,>=3.1.4 in /usr/local/lib/python3.6/dist-packages (from google-auth<2,>=1.6.3->tensorboard>=2.4.1->-r requirements.txt (line 15)) (4.0)\n",
      "Requirement already satisfied: pyasn1-modules>=0.2.1 in /usr/local/lib/python3.6/dist-packages (from google-auth<2,>=1.6.3->tensorboard>=2.4.1->-r requirements.txt (line 15)) (0.2.8)\n",
      "Requirement already satisfied: cachetools<5.0,>=2.0.0 in /usr/local/lib/python3.6/dist-packages (from google-auth<2,>=1.6.3->tensorboard>=2.4.1->-r requirements.txt (line 15)) (4.0.0)\n",
      "Requirement already satisfied: requests-oauthlib>=0.7.0 in /usr/local/lib/python3.6/dist-packages (from google-auth-oauthlib<0.5,>=0.4.1->tensorboard>=2.4.1->-r requirements.txt (line 15)) (1.3.0)\n",
      "Requirement already satisfied: pyasn1<0.5.0,>=0.4.6 in /usr/local/lib/python3.6/dist-packages (from pyasn1-modules>=0.2.1->google-auth<2,>=1.6.3->tensorboard>=2.4.1->-r requirements.txt (line 15)) (0.4.8)\n",
      "Requirement already satisfied: certifi>=2017.4.17 in /usr/local/lib/python3.6/dist-packages (from requests<3,>=2.21.0->tensorboard>=2.4.1->-r requirements.txt (line 15)) (2019.11.28)\n",
      "Requirement already satisfied: chardet<4,>=3.0.2 in /usr/local/lib/python3.6/dist-packages (from requests<3,>=2.21.0->tensorboard>=2.4.1->-r requirements.txt (line 15)) (3.0.4)\n",
      "Requirement already satisfied: urllib3!=1.25.0,!=1.25.1,<1.26,>=1.21.1 in /usr/local/lib/python3.6/dist-packages (from requests<3,>=2.21.0->tensorboard>=2.4.1->-r requirements.txt (line 15)) (1.25.8)\n",
      "Requirement already satisfied: idna<3,>=2.5 in /usr/lib/python3/dist-packages (from requests<3,>=2.21.0->tensorboard>=2.4.1->-r requirements.txt (line 15)) (2.6)\n",
      "Requirement already satisfied: oauthlib>=3.0.0 in /usr/local/lib/python3.6/dist-packages (from requests-oauthlib>=0.7.0->google-auth-oauthlib<0.5,>=0.4.1->tensorboard>=2.4.1->-r requirements.txt (line 15)) (3.1.0)\n",
      "Installing collected packages: numpy, torch, tensorboard-data-server, matplotlib, torchvision, thop, tensorboard, seaborn\n",
      "  Attempting uninstall: numpy\n",
      "    Found existing installation: numpy 1.18.2\n",
      "    Uninstalling numpy-1.18.2:\n",
      "      Successfully uninstalled numpy-1.18.2\n",
      "  Attempting uninstall: matplotlib\n",
      "    Found existing installation: matplotlib 3.2.1\n",
      "    Uninstalling matplotlib-3.2.1:\n",
      "      Successfully uninstalled matplotlib-3.2.1\n",
      "  Attempting uninstall: tensorboard\n",
      "    Found existing installation: tensorboard 2.2.0\n",
      "    Uninstalling tensorboard-2.2.0:\n",
      "      Successfully uninstalled tensorboard-2.2.0\n",
      "\u001b[31mERROR: pip's dependency resolver does not currently take into account all the packages that are installed. This behaviour is the source of the following dependency conflicts.\n",
      "tensorflow-gpu 2.2.0 requires tensorboard<2.3.0,>=2.2.0, but you have tensorboard 2.5.0 which is incompatible.\u001b[0m\n",
      "Successfully installed matplotlib-3.3.4 numpy-1.19.5 seaborn-0.11.1 tensorboard-2.5.0 tensorboard-data-server-0.6.1 thop-0.0.31.post2005241907 torch-1.9.0 torchvision-0.10.0\n",
      "\u001b[33mWARNING: Running pip as the 'root' user can result in broken permissions and conflicting behaviour with the system package manager. It is recommended to use a virtual environment instead: https://pip.pypa.io/warnings/venv\u001b[0m\n"
     ]
    }
   ],
   "source": [
    "!pip install -r requirements.txt"
   ]
  },
  {
   "cell_type": "code",
   "execution_count": 2,
   "metadata": {},
   "outputs": [],
   "source": [
    "from glob import glob\n",
    "import os\n"
   ]
  },
  {
   "cell_type": "code",
   "execution_count": 19,
   "metadata": {},
   "outputs": [
    {
     "name": "stdout",
     "output_type": "stream",
     "text": [
      "/tf/Docker/yolov5_openImagev5\n"
     ]
    }
   ],
   "source": [
    "cd OIDv5_ToolKit/OID/"
   ]
  },
  {
   "cell_type": "code",
   "execution_count": 11,
   "metadata": {},
   "outputs": [
    {
     "data": {
      "text/plain": [
       "(1936, 107)"
      ]
     },
     "execution_count": 11,
     "metadata": {},
     "output_type": "execute_result"
    }
   ],
   "source": [
    "train_img_list = sorted(glob('/workspace/ssddata/yolov5_openImage_dataset/train/Apple_Orange/*.jpg'))\n",
    "val_img_list = sorted(glob('/workspace/ssddata/yolov5_openImage_dataset/validation/Apple_Orange/*.jpg'))\n",
    "\n",
    "len(train_img_list) , len(val_img_list )"
   ]
  },
  {
   "cell_type": "code",
   "execution_count": 17,
   "metadata": {},
   "outputs": [
    {
     "name": "stdout",
     "output_type": "stream",
     "text": [
      "names:\n",
      "- apple\n",
      "- orange\n",
      "nc: 2\n",
      "train: /workspace/ssddata/yolov5_openImage_dataset/train.txt\n",
      "val: /workspace/ssddata/yolov5_openImage_dataset/val.txt\n"
     ]
    }
   ],
   "source": [
    "%cat /workspace/ssddata/yolov5_openImage_dataset/data.yaml"
   ]
  },
  {
   "cell_type": "code",
   "execution_count": 15,
   "metadata": {},
   "outputs": [],
   "source": [
    "with open('/workspace/ssddata/yolov5_openImage_dataset/train.txt','w') as f:\n",
    "    f.write('\\n'.join(train_img_list)+'\\n')\n",
    "    \n",
    "with open('/workspace/ssddata/yolov5_openImage_dataset/val.txt','w') as f:\n",
    "    f.write('\\n'.join(val_img_list)+'\\n')\n"
   ]
  },
  {
   "cell_type": "code",
   "execution_count": 16,
   "metadata": {},
   "outputs": [
    {
     "name": "stdout",
     "output_type": "stream",
     "text": [
      "{'names': ['apple', 'orange'], 'nc': 2, 'train': '/tf/ssddata/yolov5_openImage_dataset/train.txt', 'val': '/tf/ssddata/yolov5_openImage_dataset/val.txt'}\n",
      "{'names': ['apple', 'orange'], 'nc': 2, 'train': '/workspace/ssddata/yolov5_openImage_dataset/train.txt', 'val': '/workspace/ssddata/yolov5_openImage_dataset/val.txt'}\n"
     ]
    },
    {
     "name": "stderr",
     "output_type": "stream",
     "text": [
      "/tmp/ipykernel_45/592456965.py:4: YAMLLoadWarning: calling yaml.load() without Loader=... is deprecated, as the default Loader is unsafe. Please read https://msg.pyyaml.org/load for full details.\n",
      "  data = yaml.load(f)\n"
     ]
    }
   ],
   "source": [
    "import yaml\n",
    "\n",
    "with open('/workspace/ssddata/yolov5_openImage_dataset/data.yaml','r') as f:\n",
    "    data = yaml.load(f)\n",
    "    \n",
    "print(data)\n",
    "\n",
    "data['train'] = '/workspace/ssddata/yolov5_openImage_dataset/train.txt'\n",
    "data['val'] = '/workspace/ssddata/yolov5_openImage_dataset/val.txt'\n",
    "\n",
    "with open('/workspace/ssddata/yolov5_openImage_dataset/data.yaml','w') as f:\n",
    "    yaml.dump(data,f)\n",
    "\n",
    "print(data)"
   ]
  },
  {
   "cell_type": "code",
   "execution_count": 18,
   "metadata": {},
   "outputs": [
    {
     "name": "stdout",
     "output_type": "stream",
     "text": [
      "[Errno 2] No such file or directory: 'yolov5'\n",
      "/workspace/Docker/yolov5_openImagev5/yolov5\n"
     ]
    }
   ],
   "source": [
    "cd yolov5"
   ]
  },
  {
   "cell_type": "code",
   "execution_count": 19,
   "metadata": {
    "tags": []
   },
   "outputs": [
    {
     "name": "stdout",
     "output_type": "stream",
     "text": [
      "\u001b[34m\u001b[1mtrain: \u001b[0mweights=yolov5s.pt, cfg=/workspace/Docker/yolov5_car/yolov5/models/yolov5s.yaml, data=/workspace/ssddata/yolov5_openImage_dataset/data.yaml, hyp=data/hyps/hyp.scratch.yaml, epochs=10, batch_size=16, imgsz=416, rect=False, resume=False, nosave=False, noval=False, noautoanchor=False, evolve=None, bucket=, cache_images=False, image_weights=False, device=, multi_scale=False, single_cls=False, adam=False, sync_bn=False, workers=8, project=runs/train, entity=None, name=yolov5_AppleOrange, exist_ok=False, quad=False, linear_lr=False, label_smoothing=0.0, upload_dataset=False, bbox_interval=-1, save_period=-1, artifact_alias=latest, local_rank=-1\n",
      "\u001b[34m\u001b[1mgithub: \u001b[0mskipping check (Docker image), for updates see https://github.com/ultralytics/yolov5\n",
      "YOLOv5 🚀 v5.0-312-gd17b45e torch 1.7.1 CUDA:0 (NVIDIA GeForce RTX 3090, 24265.3125MB)\n",
      "\n",
      "\u001b[34m\u001b[1mhyperparameters: \u001b[0mlr0=0.01, lrf=0.2, momentum=0.937, weight_decay=0.0005, warmup_epochs=3.0, warmup_momentum=0.8, warmup_bias_lr=0.1, box=0.05, cls=0.5, cls_pw=1.0, obj=1.0, obj_pw=1.0, iou_t=0.2, anchor_t=4.0, fl_gamma=0.0, hsv_h=0.015, hsv_s=0.7, hsv_v=0.4, degrees=0.0, translate=0.1, scale=0.5, shear=0.0, perspective=0.0, flipud=0.0, fliplr=0.5, mosaic=1.0, mixup=0.0, copy_paste=0.0\n",
      "\u001b[34m\u001b[1mWeights & Biases: \u001b[0mrun 'pip install wandb' to automatically track and visualize YOLOv5 🚀 runs (RECOMMENDED)\n",
      "\u001b[34m\u001b[1mTensorBoard: \u001b[0mStart with 'tensorboard --logdir runs/train', view at http://localhost:6006/\n",
      "Overriding model.yaml nc=80 with nc=2\n",
      "\n",
      "                 from  n    params  module                                  arguments                     \n",
      "  0                -1  1      3520  models.common.Focus                     [3, 32, 3]                    \n",
      "  1                -1  1     18560  models.common.Conv                      [32, 64, 3, 2]                \n",
      "  2                -1  1     18816  models.common.C3                        [64, 64, 1]                   \n",
      "  3                -1  1     73984  models.common.Conv                      [64, 128, 3, 2]               \n",
      "  4                -1  1    156928  models.common.C3                        [128, 128, 3]                 \n",
      "  5                -1  1    295424  models.common.Conv                      [128, 256, 3, 2]              \n",
      "  6                -1  1    625152  models.common.C3                        [256, 256, 3]                 \n",
      "  7                -1  1   1180672  models.common.Conv                      [256, 512, 3, 2]              \n",
      "  8                -1  1    656896  models.common.SPP                       [512, 512, [5, 9, 13]]        \n",
      "  9                -1  1   1182720  models.common.C3                        [512, 512, 1, False]          \n",
      " 10                -1  1    131584  models.common.Conv                      [512, 256, 1, 1]              \n",
      " 11                -1  1         0  torch.nn.modules.upsampling.Upsample    [None, 2, 'nearest']          \n",
      " 12           [-1, 6]  1         0  models.common.Concat                    [1]                           \n",
      " 13                -1  1    361984  models.common.C3                        [512, 256, 1, False]          \n",
      " 14                -1  1     33024  models.common.Conv                      [256, 128, 1, 1]              \n",
      " 15                -1  1         0  torch.nn.modules.upsampling.Upsample    [None, 2, 'nearest']          \n",
      " 16           [-1, 4]  1         0  models.common.Concat                    [1]                           \n",
      " 17                -1  1     90880  models.common.C3                        [256, 128, 1, False]          \n",
      " 18                -1  1    147712  models.common.Conv                      [128, 128, 3, 2]              \n",
      " 19          [-1, 14]  1         0  models.common.Concat                    [1]                           \n",
      " 20                -1  1    296448  models.common.C3                        [256, 256, 1, False]          \n",
      " 21                -1  1    590336  models.common.Conv                      [256, 256, 3, 2]              \n",
      " 22          [-1, 10]  1         0  models.common.Concat                    [1]                           \n",
      " 23                -1  1   1182720  models.common.C3                        [512, 512, 1, False]          \n",
      " 24      [17, 20, 23]  1     18879  models.yolo.Detect                      [2, [[10, 13, 16, 30, 33, 23], [30, 61, 62, 45, 59, 119], [116, 90, 156, 198, 373, 326]], [128, 256, 512]]\n",
      "Model Summary: 283 layers, 7066239 parameters, 7066239 gradients, 16.4 GFLOPs\n",
      "\n",
      "Transferred 354/362 items from yolov5s.pt\n",
      "Scaled weight_decay = 0.0005\n",
      "\u001b[34m\u001b[1moptimizer:\u001b[0m SGD with parameter groups 59 weight, 62 weight (no decay), 62 bias\n",
      "\u001b[34m\u001b[1mtrain: \u001b[0mScanning '/workspace/ssddata/yolov5_openImage_dataset/train' images and l\u001b[0m\n",
      "\u001b[34m\u001b[1mtrain: \u001b[0mNew cache created: /workspace/ssddata/yolov5_openImage_dataset/train.cache\n",
      "\u001b[34m\u001b[1mval: \u001b[0mScanning '/workspace/ssddata/yolov5_openImage_dataset/val' images and label\u001b[0m\n",
      "\u001b[34m\u001b[1mval: \u001b[0mNew cache created: /workspace/ssddata/yolov5_openImage_dataset/val.cache\n",
      "Plotting labels... \n",
      "\n",
      "\u001b[34m\u001b[1mautoanchor: \u001b[0mAnalyzing anchors... anchors/target = 5.02, Best Possible Recall (BPR) = 0.9971\n",
      "Image sizes 416 train, 416 val\n",
      "Using 8 dataloader workers\n",
      "Logging results to runs/train/yolov5_AppleOrange3\n",
      "Starting training for 10 epochs...\n",
      "\n",
      "     Epoch   gpu_mem       box       obj       cls     total    labels  img_size\n",
      "       0/9      1.5G    0.1038   0.04622    0.0284    0.1785       114       416\n",
      "               Class     Images     Labels          P          R     mAP@.5 mAP@/workspace/Docker/yolov5_openImagev5/yolov5/val.py:61: UserWarning: This overload of nonzero is deprecated:\n",
      "\tnonzero()\n",
      "Consider using one of the following signatures instead:\n",
      "\tnonzero(*, bool as_tuple) (Triggered internally at  /opt/conda/conda-bld/pytorch_1607370172916/work/torch/csrc/utils/python_arg_parser.cpp:882.)\n",
      "  ti = (cls == tcls).nonzero().view(-1)  # label indices\n",
      "               Class     Images     Labels          P          R     mAP@.5 mAP@\n",
      "                 all        107        277      0.174      0.207     0.0839     0.0323\n",
      "\n",
      "     Epoch   gpu_mem       box       obj       cls     total    labels  img_size\n",
      "       1/9     2.11G   0.07122   0.05091   0.02147    0.1436       104       416\n",
      "               Class     Images     Labels          P          R     mAP@.5 mAP@\n",
      "                 all        107        277      0.399       0.43      0.318      0.175\n",
      "\n",
      "     Epoch   gpu_mem       box       obj       cls     total    labels  img_size\n",
      "       2/9     2.11G   0.06162   0.04897   0.01262    0.1232       101       416\n",
      "               Class     Images     Labels          P          R     mAP@.5 mAP@\n",
      "                 all        107        277      0.359      0.393      0.325      0.203\n",
      "\n",
      "     Epoch   gpu_mem       box       obj       cls     total    labels  img_size\n",
      "       3/9     2.11G   0.05741   0.04876  0.009173    0.1153       105       416\n",
      "               Class     Images     Labels          P          R     mAP@.5 mAP@\n",
      "                 all        107        277      0.384      0.488      0.341      0.208\n",
      "\n",
      "     Epoch   gpu_mem       box       obj       cls     total    labels  img_size\n",
      "       4/9     2.11G   0.05718    0.0472  0.007439    0.1118        86       416\n",
      "               Class     Images     Labels          P          R     mAP@.5 mAP@\n",
      "                 all        107        277      0.363      0.488      0.349      0.207\n",
      "\n",
      "     Epoch   gpu_mem       box       obj       cls     total    labels  img_size\n",
      "       5/9     2.11G   0.05279   0.04847  0.007011    0.1083       100       416\n",
      "               Class     Images     Labels          P          R     mAP@.5 mAP@\n",
      "                 all        107        277       0.31       0.53      0.292      0.191\n",
      "\n",
      "     Epoch   gpu_mem       box       obj       cls     total    labels  img_size\n",
      "       6/9     2.11G   0.04878   0.04657  0.006229    0.1016       161       416\n",
      "               Class     Images     Labels          P          R     mAP@.5 mAP@\n",
      "                 all        107        277       0.46      0.503      0.456      0.302\n",
      "\n",
      "     Epoch   gpu_mem       box       obj       cls     total    labels  img_size\n",
      "       7/9     2.11G   0.04926   0.04678  0.005752    0.1018       187       416\n",
      "               Class     Images     Labels          P          R     mAP@.5 mAP@\n",
      "                 all        107        277       0.42      0.458      0.345      0.247\n",
      "\n",
      "     Epoch   gpu_mem       box       obj       cls     total    labels  img_size\n",
      "       8/9     2.11G   0.04454   0.04589  0.005217   0.09564       115       416\n",
      "               Class     Images     Labels          P          R     mAP@.5 mAP@\n",
      "                 all        107        277      0.386      0.605      0.424      0.311\n",
      "\n",
      "     Epoch   gpu_mem       box       obj       cls     total    labels  img_size\n",
      "       9/9     2.11G   0.04409   0.04838  0.005122    0.0976        97       416\n",
      "               Class     Images     Labels          P          R     mAP@.5 mAP@\n",
      "                 all        107        277      0.403      0.497      0.346      0.271\n",
      "               apple        107        102      0.632       0.49      0.513      0.412\n",
      "              orange        107        175      0.175      0.503      0.178       0.13\n",
      "10 epochs completed in 0.034 hours.\n",
      "\n",
      "Optimizer stripped from runs/train/yolov5_AppleOrange3/weights/last.pt, 14.4MB\n",
      "Optimizer stripped from runs/train/yolov5_AppleOrange3/weights/best.pt, 14.4MB\n"
     ]
    }
   ],
   "source": [
    "!python train.py --img 416 --batch 16 --epochs 10 --data '/workspace/ssddata/yolov5_openImage_dataset/data.yaml' --cfg '/workspace/Docker/yolov5_car/yolov5/models/yolov5s.yaml' --weights yolov5s.pt --name yolov5_AppleOrange"
   ]
  },
  {
   "cell_type": "code",
   "execution_count": 4,
   "metadata": {},
   "outputs": [
    {
     "data": {
      "text/plain": [
       "6"
      ]
     },
     "execution_count": 4,
     "metadata": {},
     "output_type": "execute_result"
    }
   ],
   "source": [
    "test_img_total = glob(*.jpg')\n",
    "\n",
    "len(test_img_total)\n"
   ]
  },
  {
   "cell_type": "code",
   "execution_count": 9,
   "metadata": {},
   "outputs": [
    {
     "name": "stdout",
     "output_type": "stream",
     "text": [
      "\u001b[34m\u001b[1mdetect: \u001b[0mweights=['/workspace/Docker/yolov5_openImage/yolov5/runs/train/yolov5_AppleOrange3/weights/best.pt'], source=/workspace/ssddata/yolov5_openImage_dataset/test/, imgsz=416, conf_thres=0.5, iou_thres=0.45, max_det=1000, device=, view_img=False, save_txt=False, save_conf=False, save_crop=False, nosave=False, classes=None, agnostic_nms=False, augment=False, visualize=False, update=False, project=runs/detect, name=exp, exist_ok=False, line_thickness=3, hide_labels=False, hide_conf=False, half=False\n",
      "YOLOv5 🚀 v5.0-312-gd17b45e torch 1.7.1 CUDA:0 (NVIDIA GeForce RTX 3090, 24265.3125MB)\n",
      "\n",
      "Fusing layers... \n",
      "Model Summary: 224 layers, 7056607 parameters, 0 gradients, 16.3 GFLOPs\n",
      "image 1/6 /workspace/ssddata/yolov5_openImage_dataset/test/apple1.jpg: 416x416 1 apple, Done. (0.007s)\n",
      "image 2/6 /workspace/ssddata/yolov5_openImage_dataset/test/apple2.jpg: 288x416 2 apples, Done. (0.008s)\n",
      "image 3/6 /workspace/ssddata/yolov5_openImage_dataset/test/cherry.jpg: 416x288 2 apples, Done. (0.007s)\n",
      "image 4/6 /workspace/ssddata/yolov5_openImage_dataset/test/images.jpg: 192x416 1 apple, 1 orange, Done. (0.008s)\n",
      "image 5/6 /workspace/ssddata/yolov5_openImage_dataset/test/mixed1.jpg: 416x320 1 apple, 1 orange, Done. (0.007s)\n",
      "image 6/6 /workspace/ssddata/yolov5_openImage_dataset/test/mixed2.jpg: 320x416 8 oranges, Done. (0.008s)\n",
      "Results saved to runs/detect/exp10\n",
      "Done. (0.089s)\n"
     ]
    }
   ],
   "source": [
    "!python detect.py --weight /workspace/Docker/yolov5_openImage/yolov5/runs/train/yolov5_AppleOrange3/weights/best.pt --img 416 --conf 0.5 --source '/workspace/ssddata/yolov5_openImage_dataset/test/'"
   ]
  },
  {
   "cell_type": "code",
   "execution_count": 7,
   "metadata": {},
   "outputs": [
    {
     "name": "stdout",
     "output_type": "stream",
     "text": [
      "/workspace/Docker/yolov5_openImage/yolov5\n"
     ]
    }
   ],
   "source": [
    "cd yolov5"
   ]
  },
  {
   "cell_type": "code",
   "execution_count": null,
   "metadata": {},
   "outputs": [],
   "source": []
  }
 ],
 "metadata": {
  "kernelspec": {
   "display_name": "Python 3",
   "language": "python",
   "name": "python3"
  },
  "language_info": {
   "codemirror_mode": {
    "name": "ipython",
    "version": 3
   },
   "file_extension": ".py",
   "mimetype": "text/x-python",
   "name": "python",
   "nbconvert_exporter": "python",
   "pygments_lexer": "ipython3",
   "version": "3.8.5"
  }
 },
 "nbformat": 4,
 "nbformat_minor": 4
}
